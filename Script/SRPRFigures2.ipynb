{
 "cells": [
  {
   "cell_type": "markdown",
   "metadata": {},
   "source": [
    "# Libraries"
   ]
  },
  {
   "cell_type": "code",
   "execution_count": null,
   "metadata": {},
   "outputs": [],
   "source": [
    "import pandas as pd\n",
    "import numpy as np\n",
    "import matplotlib.pyplot as plt\n",
    "\n",
    "import pickle\n",
    "from collections import defaultdict\n",
    "import matplotlib.colors as mcolors\n",
    "import plotly.graph_objects as go\n",
    "\n",
    "plt.rcParams['font.family'] = 'Times New Roman'"
   ]
  },
  {
   "cell_type": "markdown",
   "metadata": {},
   "source": [
    "# Path"
   ]
  },
  {
   "cell_type": "code",
   "execution_count": null,
   "metadata": {},
   "outputs": [],
   "source": [
    "data_path = '/path/to/your/data/folder/Data for visulization/'\n",
    "figure_path = '/path/to/your/data/folder/Folder for outputs/'"
   ]
  },
  {
   "cell_type": "markdown",
   "metadata": {},
   "source": [
    "# Data"
   ]
  },
  {
   "cell_type": "code",
   "execution_count": null,
   "metadata": {},
   "outputs": [],
   "source": [
    "with open(data_path + 'SPTFlows_NSF_NSFC.pkl', 'rb') as f:\n",
    "    flow_counts = pickle.load(f)"
   ]
  },
  {
   "cell_type": "markdown",
   "metadata": {},
   "source": [
    "# Visualization"
   ]
  },
  {
   "cell_type": "code",
   "execution_count": null,
   "metadata": {},
   "outputs": [],
   "source": [
    "C1 = '#1f77b4' \n",
    "middle_color = \"#d3d3d3\" \n",
    "C0 = '#ff7f0e'\n",
    "\n",
    "colors = [C0, middle_color, C1]\n",
    "cmap_custom = mcolors.LinearSegmentedColormap.from_list(\"coolwarm_custom\", colors)"
   ]
  },
  {
   "cell_type": "code",
   "execution_count": null,
   "metadata": {},
   "outputs": [],
   "source": [
    "keywords = list(set([kw1 for (kw1, kw2) in flow_counts.keys()] + [kw2 for (kw1, kw2) in flow_counts.keys()]))\n",
    "keyword_index = {kw: idx for idx, kw in enumerate(keywords)}\n",
    "\n",
    "sources = []\n",
    "targets = []\n",
    "values = []\n",
    "colors = []\n",
    "node_flow_counts = defaultdict(lambda: {\"NSF\": 0, \"NSFC\": 0})\n",
    "\n",
    "for (kw1, kw2), count_dict in flow_counts.items():\n",
    "    sources.append(keyword_index[kw1])\n",
    "    targets.append(keyword_index[kw2])\n",
    "    total_count = sum(count_dict.values())\n",
    "    values.append(total_count)\n",
    "\n",
    "    node_flow_counts[kw1][\"NSF\"] += count_dict[\"NSF\"]\n",
    "    node_flow_counts[kw1][\"NSFC\"] += count_dict[\"NSFC\"]\n",
    "    node_flow_counts[kw2][\"NSF\"] += count_dict[\"NSF\"]\n",
    "    node_flow_counts[kw2][\"NSFC\"] += count_dict[\"NSFC\"]"
   ]
  },
  {
   "cell_type": "code",
   "execution_count": null,
   "metadata": {},
   "outputs": [],
   "source": [
    "cmap=cmap_custom\n",
    "alpha = 0.825\n",
    "\n",
    "def get_gradient_color(val, alpha=alpha):\n",
    "    color = cmap(val) \n",
    "    return (color[0], color[1], color[2], alpha)\n",
    "\n",
    "def remove_prefix(keyword):\n",
    "    return keyword[2:] if keyword.startswith(('s_', 'p_', 't_')) else keyword\n",
    "\n",
    "for (kw1, kw2), count_dict in flow_counts.items():\n",
    "    nsf_count_kw1 = node_flow_counts[kw1][\"NSF\"]\n",
    "    nsfc_count_kw1 = node_flow_counts[kw1][\"NSFC\"]\n",
    "    total_kw1 = nsf_count_kw1 + nsfc_count_kw1\n",
    "    ratio_kw1 = nsf_count_kw1 / total_kw1 if total_kw1 != 0 else 0\n",
    "\n",
    "    nsf_count_kw2 = node_flow_counts[kw2][\"NSF\"]\n",
    "    nsfc_count_kw2 = node_flow_counts[kw2][\"NSFC\"]\n",
    "    total_kw2 = nsf_count_kw2 + nsfc_count_kw2\n",
    "    ratio_kw2 = nsf_count_kw2 / total_kw2 if total_kw2 != 0 else 0\n",
    "\n",
    "    avg_ratio = (ratio_kw1 + ratio_kw2) / 2\n",
    "\n",
    "    color_rgba = get_gradient_color(avg_ratio)\n",
    "    colors.append(f'rgba({color_rgba[0] * 255}, {color_rgba[1] * 255}, {color_rgba[2] * 255}, {color_rgba[3]})')\n",
    "\n",
    "nodes_with_group = []\n",
    "node_colors = []\n",
    "\n",
    "for kw in keywords:\n",
    "    nodes_with_group.append(remove_prefix(kw)) \n",
    "    node_colors.append(\"rgba(128, 128, 128, 0.75)\")"
   ]
  },
  {
   "cell_type": "markdown",
   "metadata": {},
   "source": [
    "### ***sankey***"
   ]
  },
  {
   "cell_type": "code",
   "execution_count": null,
   "metadata": {},
   "outputs": [],
   "source": [
    "fig = go.Figure(go.Sankey(\n",
    "    node=dict(\n",
    "        pad=15,\n",
    "        thickness=30,\n",
    "        line=dict(color=\"black\", width=0),\n",
    "        label=nodes_with_group,\n",
    "        color=node_colors\n",
    "    ),\n",
    "    link=dict(\n",
    "        source=sources,\n",
    "        target=targets,\n",
    "        value=values,\n",
    "        color=colors \n",
    "    )))\n",
    "\n",
    "fig.add_annotation(\n",
    "    text=\"Urban Science\",\n",
    "    xref=\"paper\", yref=\"paper\",\n",
    "    x=0.025, y=1.0475, \n",
    "    showarrow=False,\n",
    "    font=dict(size=45, color=\"black\")\n",
    ")\n",
    "\n",
    "fig.add_annotation(\n",
    "    text=\"Real-World Problems\",\n",
    "    xref=\"paper\", yref=\"paper\",\n",
    "    x=0.5, y=1.0475,\n",
    "    showarrow=False,\n",
    "    font=dict(size=45, color=\"black\")\n",
    ")\n",
    "\n",
    "fig.add_annotation(\n",
    "    text=\"Urban Technology\",\n",
    "    xref=\"paper\", yref=\"paper\",\n",
    "    x=0.975, y=1.0475, \n",
    "    showarrow=False,\n",
    "    font=dict(size=45, color=\"black\")\n",
    ")\n",
    "\n",
    "fig.update_layout(\n",
    "    xaxis=dict(showticklabels=False),\n",
    "    yaxis=dict(showticklabels=False),\n",
    "    font=dict(family=\"Times New Roman\", size=36, color=\"black\"),\n",
    "    width=2000,\n",
    "    height=2000,\n",
    "    paper_bgcolor='rgba(0,0,0,0)',\n",
    "    plot_bgcolor='rgba(0,0,0,0)'\n",
    ")\n",
    "\n",
    "fig.write_html(figure_path + 'Figure_name.html')"
   ]
  }
 ],
 "metadata": {
  "kernelspec": {
   "display_name": "base",
   "language": "python",
   "name": "python3"
  },
  "language_info": {
   "codemirror_mode": {
    "name": "ipython",
    "version": 3
   },
   "file_extension": ".py",
   "mimetype": "text/x-python",
   "name": "python",
   "nbconvert_exporter": "python",
   "pygments_lexer": "ipython3",
   "version": "3.11.3"
  }
 },
 "nbformat": 4,
 "nbformat_minor": 2
}
